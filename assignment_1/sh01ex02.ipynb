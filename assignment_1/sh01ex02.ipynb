{
 "cells": [
  {
   "cell_type": "markdown",
   "id": "69a42d19",
   "metadata": {},
   "source": [
    "# Assignment 1"
   ]
  },
  {
   "cell_type": "markdown",
   "id": "a5923099",
   "metadata": {},
   "source": [
    "## 2 Neighborhood operations with local weighting"
   ]
  }
 ],
 "metadata": {
  "kernelspec": {
   "display_name": "Julia 1.8.5",
   "language": "julia",
   "name": "julia-1.8"
  },
  "language_info": {
   "file_extension": ".jl",
   "mimetype": "application/julia",
   "name": "julia",
   "version": "1.8.5"
  }
 },
 "nbformat": 4,
 "nbformat_minor": 5
}
