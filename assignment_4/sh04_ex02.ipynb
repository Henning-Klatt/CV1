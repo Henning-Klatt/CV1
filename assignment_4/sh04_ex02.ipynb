{
 "cells": [
  {
   "cell_type": "markdown",
   "id": "2a6683e4-a0b9-47f8-952d-d5a83501c8de",
   "metadata": {},
   "source": [
    "# Assignment 4"
   ]
  },
  {
   "cell_type": "markdown",
   "id": "20bbac59-919c-47f5-8133-3853a9ae663e",
   "metadata": {},
   "source": [
    "Niko Fauter (1047241)\n",
    "\n",
    "Henning Klatt (1079429)"
   ]
  },
  {
   "cell_type": "markdown",
   "id": "7ba55c2c-68be-4048-a623-28f3a281e198",
   "metadata": {},
   "source": [
    "### Directional Differenz Calculation"
   ]
  },
  {
   "cell_type": "code",
   "execution_count": 1,
   "id": "45f821bf-ed49-45a7-b06b-76e24112887d",
   "metadata": {},
   "outputs": [
    {
     "data": {
      "text/plain": [
       "moravec (generic function with 1 method)"
      ]
     },
     "execution_count": 1,
     "metadata": {},
     "output_type": "execute_result"
    }
   ],
   "source": [
    "using Images, Plots, FileIO, ImageIO\n",
    "function getOrientationChannels(img) \n",
    "        imgArray = channelview(float.(img))\n",
    "        g_0=zeros(size(imgArray))\n",
    "        g_45=zeros(size(imgArray))\n",
    "        g_90=zeros(size(imgArray))     \n",
    "        g_135=zeros(size(imgArray))            \n",
    "        for i in eachindex(view(imgArray,1:size(imgArray,1),1:size(imgArray,2)))\n",
    "            if i[2] == size(imgArray,2)\n",
    "                g_0[i]=0\n",
    "                g_45[i]=0\n",
    "                if i[1] == size(imgArray,1)\n",
    "                    g_90[i]=0   \n",
    "                else\n",
    "                    g_90[i]=imgArray[i]-imgArray[i[1]+1,i[2]]                          \n",
    "                end\n",
    "                \n",
    "            else\n",
    "                g_0[i]=imgArray[i]-imgArray[i[1],i[2]+1]\n",
    "                if i[1]== size(imgArray,1)\n",
    "                    g_45[i]=0\n",
    "                else\n",
    "                    \n",
    "                    g_45[i]=imgArray[i]-imgArray[i[1]+1,i[2]+1]\n",
    "                    g_90[i]=imgArray[i]-imgArray[i[1]+1,i[2]] \n",
    "                end\n",
    "            end\n",
    "            if i[2] == 1 || i[1]==size(imgArray,1)\n",
    "                g_135[i]=0\n",
    "            else\n",
    "                g_135[i]=imgArray[i]-imgArray[i[1]+1,i[2]-1]\n",
    "            end\n",
    "        end   \n",
    "        return g_0.^2,g_45.^2,g_90.^2,g_135.^2\n",
    "end\n",
    "function maxmin(c_0,c_45,c_90,c_135,max)\n",
    "    c_maxmin=zeros(size(c_0))\n",
    "    for i in eachindex(c_0)\n",
    "        if max\n",
    "            c_maxmin[i]=maximum([c_0[i], c_45[i], c_90[i], c_135[i]])\n",
    "        else\n",
    "            c_maxmin[i]=minimum([c_0[i], c_45[i], c_90[i], c_135[i]])\n",
    "        end\n",
    "    end\n",
    "    return c_maxmin\n",
    "end\n",
    "\n",
    "\n",
    "function normalize(c_0,c_45,c_90,c_135,avg)\n",
    "    if avg\n",
    "        sum=c_0 .+ c_45 .+ c_90 + c_135\n",
    "        c_0_avg= c_0./sum\n",
    "        c_45_avg=c_45./sum\n",
    "        c_90_avg=c_90./sum\n",
    "        c_135_avg=c_135./sum\n",
    "        return c_0_avg,c_45_avg,c_90_avg, c_135_avg\n",
    "    else\n",
    "        max=maxmin(c_0,c_45,c_90,c_135,true)\n",
    "        c_0_max= c_0./max\n",
    "        c_45_max=c_45./max\n",
    "        c_90_max=c_90./max\n",
    "        c_135_max=c_135./max\n",
    "        return c_0_max,c_45_max,c_90_max, c_135_max\n",
    "    end\n",
    "end\n",
    "function moravec(img, avg_normed, threshold)\n",
    "g_0,g_45,g_90,g_135 =getOrientationChannels(shapes);\n",
    "\n",
    "box=centered(ones(5,5))\n",
    "c_0= imfilter(g_0,box)\n",
    "c_45=imfilter(g_45,box)\n",
    "c_90=imfilter(g_90,box)\n",
    "c_135=imfilter(g_135,box);\n",
    "\n",
    "c_0_norm,c_45_norm,c_90_norm, c_135_norm=normalize(c_0,c_45,c_90,c_135,avg_normed)\n",
    "\n",
    "c_min=maxmin(c_0_avg,c_45_avg,c_90_avg, c_135_avg,false)\n",
    "#thresholding\n",
    "c_result=c_min.>threshold\n",
    "    return c_result\n",
    "end\n"
   ]
  },
  {
   "cell_type": "code",
   "execution_count": 2,
   "id": "3d22d850-5f59-4796-880c-76168b6b5ff2",
   "metadata": {},
   "outputs": [
    {
     "ename": "LoadError",
     "evalue": "UndefVarError: c_0_avg not defined",
     "output_type": "error",
     "traceback": [
      "UndefVarError: c_0_avg not defined",
      "",
      "Stacktrace:",
      " [1] moravec(img::Matrix{Gray{N0f8}}, avg_normed::Bool, threshold::Float64)",
      "   @ Main ./In[1]:77",
      " [2] top-level scope",
      "   @ In[2]:2"
     ]
    }
   ],
   "source": [
    "shapes=load(\"shapes1.png\")\n",
    "c_result=moravec(shapes,true,0.1)\n",
    "heatmap(c_result,color=:grays,xticks=false,yticks=false)"
   ]
  },
  {
   "cell_type": "markdown",
   "id": "9620ab05-eb62-4641-a6d9-b4c75c83b52f",
   "metadata": {},
   "source": [
    "### "
   ]
  },
  {
   "cell_type": "code",
   "execution_count": 3,
   "id": "4a0af271-0f80-4b74-8f0a-1e90c92c40db",
   "metadata": {},
   "outputs": [
    {
     "data": {
      "text/plain": [
       "roc (generic function with 1 method)"
      ]
     },
     "execution_count": 3,
     "metadata": {},
     "output_type": "execute_result"
    }
   ],
   "source": [
    "function roc(img, keypointMap,threshold)\n",
    "    FPR=0\n",
    "    TPR=0\n",
    "    n_kp=0\n",
    "    n_nkp=0\n",
    "    n=0\n",
    "    c_result=moravec(img,true,threshold)\n",
    "    for i in eachindex(img)\n",
    "\n",
    "        if keypointMap[i] \n",
    "            n_kp+=1\n",
    "            if c_result[i]\n",
    "                TPR+=1\n",
    "            end\n",
    "        else\n",
    "            n_nkp+=1\n",
    "            if c_result[i]\n",
    "                FPR+=1\n",
    "            end\n",
    "        end\n",
    "        n=n+1\n",
    "    end\n",
    "    if (n_kp+n_nkp==n)\n",
    "        return FPR/n_nkp, TPR/n_kp\n",
    "    end\n",
    "end\n",
    "        "
   ]
  },
  {
   "cell_type": "code",
   "execution_count": 4,
   "id": "aed0bf02-d0da-4211-8c16-7f3e5fcc0899",
   "metadata": {},
   "outputs": [
    {
     "ename": "LoadError",
     "evalue": "UndefVarError: c_0_avg not defined",
     "output_type": "error",
     "traceback": [
      "UndefVarError: c_0_avg not defined",
      "",
      "Stacktrace:",
      " [1] moravec(img::Matrix{Gray{N0f8}}, avg_normed::Bool, threshold::Float64)",
      "   @ Main ./In[1]:77",
      " [2] roc(img::Matrix{Gray{N0f8}}, keypointMap::BitMatrix, threshold::Float64)",
      "   @ Main ./In[3]:7",
      " [3] top-level scope",
      "   @ In[4]:6"
     ]
    }
   ],
   "source": [
    "keypoints = load(\"keypoints.png\")\n",
    "keypoints=channelview(float.(keypoints))\n",
    "#transformation to boolean\n",
    "keypoints=(keypoints .>0.5)\n",
    "shapes=load(\"shapes1.png\")\n",
    "FPR,TPR =roc(shapes,keypoints,0.01)"
   ]
  },
  {
   "cell_type": "code",
   "execution_count": 5,
   "id": "d0abae51-eeec-40c8-befe-030c6a47a884",
   "metadata": {},
   "outputs": [
    {
     "ename": "LoadError",
     "evalue": "UndefVarError: c_0_avg not defined",
     "output_type": "error",
     "traceback": [
      "UndefVarError: c_0_avg not defined",
      "",
      "Stacktrace:",
      " [1] moravec(img::Matrix{Gray{N0f8}}, avg_normed::Bool, threshold::Int64)",
      "   @ Main ./In[1]:77",
      " [2] roc(img::Matrix{Gray{N0f8}}, keypointMap::BitMatrix, threshold::Int64)",
      "   @ Main ./In[3]:7",
      " [3] evaluateROC(img::Matrix{Gray{N0f8}}, keypointMap::BitMatrix)",
      "   @ Main ./In[5]:8",
      " [4] top-level scope",
      "   @ In[5]:22"
     ]
    }
   ],
   "source": [
    "function evaluateROC(img,keypointMap)\n",
    "    threshold=0\n",
    "    FPR_vec=zeros(101)\n",
    "    TPR_vec=zeros(101)\n",
    "    threshold_vec=zeros(101)\n",
    "    i=1\n",
    "    while threshold <=1\n",
    "        FPR,TPR =roc(img,keypoints,threshold)\n",
    "        FPR_vec[i]=FPR\n",
    "        TPR_vec[i]=TPR\n",
    "        threshold_vec[i]=threshold\n",
    "        threshold +=0.01\n",
    "        i+=1\n",
    "    end\n",
    "    plot(threshold_vec,[FPR_vec,TPR_vec],label=[\"FPR\" \"TPR\"])\n",
    "end       \n",
    "keypoints = load(\"keypoints.png\")\n",
    "keypoints=channelview(float.(keypoints))\n",
    "#transformation to boolean\n",
    "keypoints=(keypoints .>0.5)\n",
    "shapes=load(\"shapes1_noisy.png\")\n",
    "evaluateROC(shapes,keypoints)     "
   ]
  },
  {
   "cell_type": "code",
   "execution_count": null,
   "id": "b42b6ae4-5ed3-46d4-a851-152f2eb5637e",
   "metadata": {},
   "outputs": [],
   "source": []
  }
 ],
 "metadata": {
  "@webio": {
   "lastCommId": null,
   "lastKernelId": null
  },
  "kernelspec": {
   "display_name": "Julia 1.7.3",
   "language": "julia",
   "name": "julia-1.7"
  },
  "language_info": {
   "file_extension": ".jl",
   "mimetype": "application/julia",
   "name": "julia",
   "version": "1.7.3"
  }
 },
 "nbformat": 4,
 "nbformat_minor": 5
}
